{
 "metadata": {
  "name": "",
  "signature": "sha256:3eeb2703bd85ca78eda786f15b9ee8241bedcb17fcfb2af85e8fbf0328bf66fd"
 },
 "nbformat": 3,
 "nbformat_minor": 0,
 "worksheets": [
  {
   "cells": [
    {
     "cell_type": "code",
     "collapsed": false,
     "input": [
      "%load_ext rpy2.ipython"
     ],
     "language": "python",
     "metadata": {},
     "outputs": [],
     "prompt_number": 4
    },
    {
     "cell_type": "code",
     "collapsed": false,
     "input": [
      "%%R\n",
      "\n",
      "library(dplyr)\n",
      "library(sf)\n",
      "library(leaflet)\n",
      "library(reshape2)\n",
      "source('.Rprofile')"
     ],
     "language": "python",
     "metadata": {},
     "outputs": [
      {
       "output_type": "stream",
       "stream": "stderr",
       "text": [
        "/Library/Frameworks/Python.framework/Versions/2.7/lib/python2.7/site-packages/rpy2/rinterface/__init__.py:186: RRuntimeWarning: Linking to GEOS 3.6.1, GDAL 2.1.2, proj.4 4.9.3\n",
        "\n",
        "  warnings.warn(x, RRuntimeWarning)\n"
       ]
      },
      {
       "metadata": {},
       "output_type": "display_data",
       "text": [
        "Sourcing project-specific .Rprofile file\n",
        "Retrieve the top-level project directory at any time with PROJ_ROOT\n"
       ]
      }
     ],
     "prompt_number": 23
    },
    {
     "cell_type": "code",
     "collapsed": false,
     "input": [
      "%%R\n",
      "\n",
      "data_dir <- file.path(PROJ_ROOT, 'data')\n",
      "\n",
      "romn_data <- \n",
      "  read.csv(file.path(data_dir, 'ROMN', 'UnequaldsgnLIBI_sites_ForCSP.csv')) %>% \n",
      "  mutate(row_id=seq(1:n()))\n",
      "\n",
      "romn_sf <- st_as_sf(romn_data, coords = c(\"xcoord\", \"ycoord\"), crs = 26913)\n",
      "\n",
      "leaflet() %>%\n",
      "  addTiles() %>%\n",
      "  addCircles(data=as(st_transform(romn_sf, 4326), 'Spatial'))\n",
      "\n",
      "romn_data %>% \n",
      "  filter(EvalStatus=='Sampled') %>% \n",
      "  select(row_id, matches('^EvalStatus[0-9]{4}$')) %>% \n",
      "  melt(id.vars='row_id', variable.name='year') %>% \n",
      "  mutate(year=as.numeric(sub('EvalStatus', '', year)),\n",
      "         is_evaluated=ifelse(value=='Sampled', TRUE, FALSE))\n"
     ],
     "language": "python",
     "metadata": {},
     "outputs": [],
     "prompt_number": 24
    },
    {
     "cell_type": "code",
     "collapsed": false,
     "input": [],
     "language": "python",
     "metadata": {},
     "outputs": []
    }
   ],
   "metadata": {}
  }
 ]
}